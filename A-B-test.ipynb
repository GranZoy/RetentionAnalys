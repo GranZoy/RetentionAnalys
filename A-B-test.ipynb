{
 "cells": [
  {
   "cell_type": "markdown",
   "id": "cdcfe3e1",
   "metadata": {},
   "source": [
    "## A/B тестирование\n",
    "\n",
    "\n",
    "### 1. Формулировка гипотезы\n",
    "- **Основная метрика:**  \n",
    "Retention по когортам через месяц  \n",
    "\n",
    "- **Побочные метрики:**  \n",
    "\t* Доход от когорты за 3 месяца  \n",
    "\t* Churn rate  \n",
    "\t* Конверсия в повторную аренду  \n",
    "\n",
    "- **Действие $D$:**  \n",
    "За 2 недели до конца договора — уведомление с предложением продлить договор и скидкой 2%  \n",
    "\n",
    "- **Нулевая гипотеза $H_0$:**  \n",
    "Действие $D$ увеличит Retention на 10%\n",
    "\n",
    "\n",
    "### 2. Дизайн эксперимента\n",
    "- **Юнит:** \n",
    "Арендатор  \n",
    "\n",
    "- **Рандомизация:**\n",
    "Две случайные группы 50/50\n",
    "\n",
    "\n",
    "### 3. Расчет параметров теста\n",
    "Параметры для z-теста пропорций:"
   ]
  },
  {
   "cell_type": "code",
   "execution_count": 2,
   "id": "6297a3ac",
   "metadata": {},
   "outputs": [
    {
     "name": "stdout",
     "output_type": "stream",
     "text": [
      "Дисперсия тестовой группы: 0.1275\n",
      "Дисперсия контрольной группы: 0.0475\n",
      "Требуемый размер выборки на группу: 137\n"
     ]
    }
   ],
   "source": [
    "alpha = 0.05\n",
    "beta = 0.2\n",
    "Revenue_test = 0.85\n",
    "Revenue_control = 0.95\n",
    "mde = 0.1\n",
    "\n",
    "var_test = Revenue_test * (1 - Revenue_test)\n",
    "var_control = Revenue_control * (1 - Revenue_control)\n",
    "\n",
    "print(f\"Дисперсия тестовой группы: {var_test:.4f}\")\n",
    "print(f\"Дисперсия контрольной группы: {var_control:.4f}\")\n",
    "\n",
    "from scipy.stats import norm\n",
    "\n",
    "z_alpha = norm.ppf(1 - alpha/2)\n",
    "z_beta = norm.ppf(1 - beta)\n",
    "\n",
    "n = ((z_alpha + z_beta)**2 * (var_test + var_control)) / (mde**2)\n",
    "print(f\"Требуемый размер выборки на группу: {int(n)}\")"
   ]
  },
  {
   "cell_type": "markdown",
   "id": "73c08bcc",
   "metadata": {},
   "source": [
    "\n",
    "### 4. Логирование данных\n",
    "Структура данных для логирования:\n",
    "```python\n",
    "{\n",
    "    'user_id': str,          # ID арендатора\n",
    "    'group': str,            # 'control' или 'test'\n",
    "    'registration_date': dt, # Дата регистрации\n",
    "    'rent_id': str,          # ID аренды\n",
    "    'rent_start_date': dt,   # Дата начала аренды\n",
    "    'rent_price': float      # Стоимость аренды\n",
    "}\n",
    "```\n",
    "\n",
    "\n",
    "### 5. Запуск теста\n",
    "**Длительность:** ~3 месяца  \n",
    "**Размер групп:** 275 пользователей в каждой\n",
    "\n",
    "\n",
    "### 6. Контрольные проверки\n",
    "- Randomization check \n",
    "- Timing check\n",
    "- Sample size check \n",
    "- Duplicates check\n",
    "\n",
    "\n",
    "### 7. Анализ результатов\n",
    "**Метод:** Z-тест для сравнения пропорций  \n",
    "**Критерий:** p-value < 0.05 $\\Rightarrow$ отвергаем $H_0$\n",
    "\n",
    "\n",
    "### 8. Интерпретация\n",
    "- Если p-value < 0.05 $\\Rightarrow$ эффект статистически значим  \n",
    "- Анализ вторичных метрик (доход, churn rate)  \n",
    "- Проверка на аномалии\n",
    "\n",
    "\n",
    "### 9. Пост-аналитика\n",
    "- Анализ аномалий в данных  \n",
    "- Проверка корректности логирования  \n",
    "- Sensitivity analysis\n",
    "\n",
    "\n",
    "### 10. Релиз\n",
    "- Если тест успешен $\\Rightarrow$ выкатываем на всех пользователей  \n",
    "- Мониторинг ключевых метрик после релиза"
   ]
  }
 ],
 "metadata": {
  "kernelspec": {
   "display_name": "Python 3",
   "language": "python",
   "name": "python3"
  },
  "language_info": {
   "codemirror_mode": {
    "name": "ipython",
    "version": 3
   },
   "file_extension": ".py",
   "mimetype": "text/x-python",
   "name": "python",
   "nbconvert_exporter": "python",
   "pygments_lexer": "ipython3",
   "version": "3.11.0"
  }
 },
 "nbformat": 4,
 "nbformat_minor": 5
}
