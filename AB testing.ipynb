{
 "cells": [
  {
   "cell_type": "markdown",
   "id": "140065f0",
   "metadata": {},
   "source": [
    "## A/B Testing\n",
    "\n",
    "### 1. Hypothesis\n",
    "- **Primary Metric:**  \n",
    "Retention by cohorts after one month  \n",
    "\n",
    "- **Secondary Metrics:**  \n",
    "  * Cohort revenue over 3 months  \n",
    "  * Churn rate  \n",
    "  * Conversion to repeat rental  \n",
    "\n",
    "- **Action $D$:**  \n",
    "Sending a notification 2 weeks before contract expiration offering a contract extension with a 2% discount  \n",
    "\n",
    "- **Null Hypothesis $H_0$:**  \n",
    "Action $D$ will increase Retention by 10%\n",
    "\n",
    "### 2. Experiment Design\n",
    "- **Unit:**  \n",
    "Renter  \n",
    "\n",
    "- **Randomization:**  \n",
    "Two random groups (50/50 split)\n",
    "\n",
    "### 3. Test Parameter Calculation\n",
    "Parameters for z-test of proportions:  "
   ]
  },
  {
   "cell_type": "code",
   "execution_count": 1,
   "id": "12c4a646",
   "metadata": {},
   "outputs": [
    {
     "name": "stdout",
     "output_type": "stream",
     "text": [
      "Test group variance: 0.1275\n",
      "Control group variance: 0.0475\n",
      "Required sample size per group: 137\n"
     ]
    }
   ],
   "source": [
    "alpha = 0.05\n",
    "beta = 0.2\n",
    "Revenue_test = 0.85\n",
    "Revenue_control = 0.95\n",
    "mde = 0.1\n",
    "\n",
    "var_test = Revenue_test * (1 - Revenue_test)\n",
    "var_control = Revenue_control * (1 - Revenue_control)\n",
    "\n",
    "print(f\"Test group variance: {var_test:.4f}\")\n",
    "print(f\"Control group variance: {var_control:.4f}\")\n",
    "\n",
    "from scipy.stats import norm\n",
    "\n",
    "z_alpha = norm.ppf(1 - alpha/2)\n",
    "z_beta = norm.ppf(1 - beta)\n",
    "\n",
    "n = ((z_alpha + z_beta)**2 * (var_test + var_control)) / (mde**2)\n",
    "print(f\"Required sample size per group: {int(n)}\")"
   ]
  },
  {
   "cell_type": "markdown",
   "id": "7802b724",
   "metadata": {},
   "source": [
    "### 4. Data Logging  \n",
    "Data structure for logging:  \n",
    "```python\n",
    "{\n",
    "    'user_id': str,          # Renter ID  \n",
    "    'group': str,            # 'control' or 'test'  \n",
    "    'registration_date': dt, # Registration date  \n",
    "    'rent_id': str,          # Rental ID  \n",
    "    'rent_start_date': dt,   # Rental start date  \n",
    "    'rent_price': float      # Rental price  \n",
    "}\n",
    "```  \n",
    "\n",
    "### 5. Test Launch  \n",
    "**Duration:** ~3 months  \n",
    "**Group size:** 275 users in each  \n",
    "\n",
    "### 6. Quality Checks  \n",
    "- Randomization check  \n",
    "- Timing check  \n",
    "- Sample size check  \n",
    "- Duplicates check  \n",
    "\n",
    "### 7. Results Analysis  \n",
    "**Method:** Z-test for proportion comparison  \n",
    "**Criterion:** p-value < 0.05 ⇒ reject $H_0$  \n",
    "\n",
    "### 8. Interpretation  \n",
    "- If p-value < 0.05 ⇒ effect is statistically significant  \n",
    "- Secondary metrics analysis (revenue, churn rate)  \n",
    "- Anomaly detection  \n",
    "\n",
    "### 9. Post-Analysis  \n",
    "- Anomaly investigation  \n",
    "- Logging integrity check  \n",
    "- Sensitivity analysis  \n",
    "\n",
    "### 10. Release  \n",
    "- If the test is successful ⇒ roll out to all users  \n",
    "- Monitor key metrics post-release  "
   ]
  }
 ],
 "metadata": {
  "kernelspec": {
   "display_name": "Python 3",
   "language": "python",
   "name": "python3"
  },
  "language_info": {
   "codemirror_mode": {
    "name": "ipython",
    "version": 3
   },
   "file_extension": ".py",
   "mimetype": "text/x-python",
   "name": "python",
   "nbconvert_exporter": "python",
   "pygments_lexer": "ipython3",
   "version": "3.11.0"
  }
 },
 "nbformat": 4,
 "nbformat_minor": 5
}
